{
 "cells": [
  {
   "cell_type": "code",
   "execution_count": null,
   "metadata": {
    "vscode": {
     "languageId": "r"
    }
   },
   "outputs": [],
   "source": [
    "library(tidyverse)\n",
    "# library(ggplot2)"
   ]
  },
  {
   "cell_type": "code",
   "execution_count": null,
   "metadata": {
    "vscode": {
     "languageId": "r"
    }
   },
   "outputs": [],
   "source": [
    "# Read in the data\n",
    "all.data <- read.csv(\"../data/Marshall_Figure_5.csv\") "
   ]
  },
  {
   "cell_type": "code",
   "execution_count": null,
   "metadata": {
    "vscode": {
     "languageId": "r"
    }
   },
   "outputs": [],
   "source": [
    "head(all.data)"
   ]
  },
  {
   "cell_type": "code",
   "execution_count": null,
   "metadata": {
    "vscode": {
     "languageId": "r"
    }
   },
   "outputs": [],
   "source": [
    "all.data %>% filter(Sample == \"Ecoli\")"
   ]
  },
  {
   "cell_type": "code",
   "execution_count": null,
   "metadata": {
    "vscode": {
     "languageId": "r"
    }
   },
   "outputs": [],
   "source": [
    "p <- ggplot(all.data) + \n",
    "        geom_point(aes(x=m.z, y=Number.of.peaks, color=Source)) +\n",
    "        theme_bw(base_size = 12) +\n",
    "        labs(x = \"m/z\", y = \"Number of Peaks in MS2\", color =\"\")+ \n",
    "        theme(legend.position = \"top\") +\n",
    "        scale_x_continuous(limits = c(300, 500))\n",
    "p\n",
    "ggsave(\"../version_1.svg\", width = 90, height = 90, units=\"mm\")"
   ]
  },
  {
   "cell_type": "code",
   "execution_count": null,
   "metadata": {
    "vscode": {
     "languageId": "r"
    }
   },
   "outputs": [],
   "source": [
    "p2 <- ggplot(all.data %>% filter(Source != \"??\")) + \n",
    "        geom_density(aes(x=Number.of.peaks, \n",
    "                        fill=Source), \n",
    "                        alpha = 0.75, \n",
    "                        trim=TRUE) +\n",
    "        theme_bw(base_size = 12) +\n",
    "        theme(legend.position = \"right\") +\n",
    "        guides(fill=guide_legend(ncol=1)) + \n",
    "        labs(x = \"Number of Peaks\", y = \"Density\")\n",
    "p2\n",
    "#ggsave(\"../version_b.svg\", width = 90, height = 90, units=\"mm\")"
   ]
  },
  {
   "cell_type": "code",
   "execution_count": null,
   "metadata": {
    "vscode": {
     "languageId": "r"
    }
   },
   "outputs": [],
   "source": [
    "p3 <- ggplot(all.data) + \n",
    "        geom_jitter(aes(x=Sample, \n",
    "                        y = Number.of.peaks, \n",
    "                        color=Source),\n",
    "                        height=0.0,\n",
    "                        width=0.1, \n",
    "                        alpha = 0.75) +\n",
    "        theme_bw(base_size = 12) +\n",
    "        theme(axis.text.x = element_text(angle = 90, vjust = 0.5, hjust=1)) + \n",
    "        guides(fill=guide_legend(ncol=1)) \n",
    "p3\n",
    "ggsave(\"../Figure_5_c.pdf\", p3, width = 89, height = 1.3*89, units = \"mm\")"
   ]
  },
  {
   "cell_type": "code",
   "execution_count": null,
   "metadata": {
    "vscode": {
     "languageId": "r"
    }
   },
   "outputs": [],
   "source": []
  }
 ],
 "metadata": {
  "kernelspec": {
   "display_name": "R",
   "language": "R",
   "name": "ir"
  },
  "language_info": {
   "codemirror_mode": "r",
   "file_extension": ".r",
   "mimetype": "text/x-r-source",
   "name": "R",
   "pygments_lexer": "r",
   "version": "4.4.3"
  }
 },
 "nbformat": 4,
 "nbformat_minor": 2
}
